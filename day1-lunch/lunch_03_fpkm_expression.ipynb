{
 "cells": [
  {
   "cell_type": "markdown",
   "metadata": {},
   "source": [
    "# Learning objectives"
   ]
  },
  {
   "cell_type": "markdown",
   "metadata": {},
   "source": [
    "# Load packages"
   ]
  },
  {
   "cell_type": "code",
   "execution_count": 1,
   "metadata": {},
   "outputs": [],
   "source": [
    "import numpy as np\n",
    "import pandas as pd\n",
    "import matplotlib.pyplot as plt"
   ]
  },
  {
   "cell_type": "markdown",
   "metadata": {},
   "source": [
    "# Load fpkms.csv"
   ]
  },
  {
   "cell_type": "code",
   "execution_count": 2,
   "metadata": {},
   "outputs": [
    {
     "data": {
      "text/html": [
       "<div>\n",
       "<style scoped>\n",
       "    .dataframe tbody tr th:only-of-type {\n",
       "        vertical-align: middle;\n",
       "    }\n",
       "\n",
       "    .dataframe tbody tr th {\n",
       "        vertical-align: top;\n",
       "    }\n",
       "\n",
       "    .dataframe thead th {\n",
       "        text-align: right;\n",
       "    }\n",
       "</style>\n",
       "<table border=\"1\" class=\"dataframe\">\n",
       "  <thead>\n",
       "    <tr style=\"text-align: right;\">\n",
       "      <th></th>\n",
       "      <th>gene_name</th>\n",
       "      <th>male_10</th>\n",
       "      <th>male_11</th>\n",
       "      <th>male_12</th>\n",
       "      <th>male_13</th>\n",
       "      <th>male_14A</th>\n",
       "      <th>male_14B</th>\n",
       "      <th>male_14C</th>\n",
       "      <th>male_14D</th>\n",
       "      <th>female_10</th>\n",
       "      <th>female_11</th>\n",
       "      <th>female_12</th>\n",
       "      <th>female_13</th>\n",
       "      <th>female_14A</th>\n",
       "      <th>female_14B</th>\n",
       "      <th>female_14C</th>\n",
       "      <th>female_14D</th>\n",
       "    </tr>\n",
       "    <tr>\n",
       "      <th>t_name</th>\n",
       "      <th></th>\n",
       "      <th></th>\n",
       "      <th></th>\n",
       "      <th></th>\n",
       "      <th></th>\n",
       "      <th></th>\n",
       "      <th></th>\n",
       "      <th></th>\n",
       "      <th></th>\n",
       "      <th></th>\n",
       "      <th></th>\n",
       "      <th></th>\n",
       "      <th></th>\n",
       "      <th></th>\n",
       "      <th></th>\n",
       "      <th></th>\n",
       "      <th></th>\n",
       "    </tr>\n",
       "  </thead>\n",
       "  <tbody>\n",
       "    <tr>\n",
       "      <th>FBtr0114258</th>\n",
       "      <td>CR41571</td>\n",
       "      <td>0.000000</td>\n",
       "      <td>0.000000</td>\n",
       "      <td>0.000000</td>\n",
       "      <td>0.000000</td>\n",
       "      <td>0.000000</td>\n",
       "      <td>0.000000</td>\n",
       "      <td>0.000000</td>\n",
       "      <td>0.000000</td>\n",
       "      <td>0.000000</td>\n",
       "      <td>0.000000</td>\n",
       "      <td>0.000000</td>\n",
       "      <td>0.000000</td>\n",
       "      <td>0.000000</td>\n",
       "      <td>0.000000</td>\n",
       "      <td>0.000000</td>\n",
       "      <td>0.00000</td>\n",
       "    </tr>\n",
       "    <tr>\n",
       "      <th>FBtr0346770</th>\n",
       "      <td>CG45784</td>\n",
       "      <td>0.000000</td>\n",
       "      <td>0.000000</td>\n",
       "      <td>0.000000</td>\n",
       "      <td>0.000000</td>\n",
       "      <td>0.000000</td>\n",
       "      <td>0.000000</td>\n",
       "      <td>0.000000</td>\n",
       "      <td>0.000000</td>\n",
       "      <td>0.000000</td>\n",
       "      <td>0.000000</td>\n",
       "      <td>0.000000</td>\n",
       "      <td>0.000000</td>\n",
       "      <td>0.000000</td>\n",
       "      <td>0.000000</td>\n",
       "      <td>0.000000</td>\n",
       "      <td>0.00000</td>\n",
       "    </tr>\n",
       "    <tr>\n",
       "      <th>FBtr0302440</th>\n",
       "      <td>CR12798</td>\n",
       "      <td>0.000000</td>\n",
       "      <td>0.000000</td>\n",
       "      <td>0.000000</td>\n",
       "      <td>0.000000</td>\n",
       "      <td>0.000000</td>\n",
       "      <td>0.000000</td>\n",
       "      <td>0.000000</td>\n",
       "      <td>0.000000</td>\n",
       "      <td>0.000000</td>\n",
       "      <td>0.000000</td>\n",
       "      <td>0.000000</td>\n",
       "      <td>0.000000</td>\n",
       "      <td>0.000000</td>\n",
       "      <td>0.000000</td>\n",
       "      <td>0.000000</td>\n",
       "      <td>0.00000</td>\n",
       "    </tr>\n",
       "    <tr>\n",
       "      <th>FBtr0302347</th>\n",
       "      <td>CR40182</td>\n",
       "      <td>23.712564</td>\n",
       "      <td>11.967821</td>\n",
       "      <td>20.767498</td>\n",
       "      <td>13.566818</td>\n",
       "      <td>18.802116</td>\n",
       "      <td>26.802691</td>\n",
       "      <td>22.819895</td>\n",
       "      <td>11.682728</td>\n",
       "      <td>21.894249</td>\n",
       "      <td>13.922059</td>\n",
       "      <td>16.482141</td>\n",
       "      <td>12.622680</td>\n",
       "      <td>31.800016</td>\n",
       "      <td>22.883186</td>\n",
       "      <td>14.330216</td>\n",
       "      <td>17.20257</td>\n",
       "    </tr>\n",
       "    <tr>\n",
       "      <th>FBtr0346769</th>\n",
       "      <td>CG45783</td>\n",
       "      <td>0.000000</td>\n",
       "      <td>0.000000</td>\n",
       "      <td>0.000000</td>\n",
       "      <td>0.000000</td>\n",
       "      <td>0.000000</td>\n",
       "      <td>0.000000</td>\n",
       "      <td>0.000000</td>\n",
       "      <td>0.000000</td>\n",
       "      <td>0.000000</td>\n",
       "      <td>0.000000</td>\n",
       "      <td>0.000000</td>\n",
       "      <td>0.000000</td>\n",
       "      <td>0.000000</td>\n",
       "      <td>0.000000</td>\n",
       "      <td>0.000000</td>\n",
       "      <td>0.00000</td>\n",
       "    </tr>\n",
       "    <tr>\n",
       "      <th>...</th>\n",
       "      <td>...</td>\n",
       "      <td>...</td>\n",
       "      <td>...</td>\n",
       "      <td>...</td>\n",
       "      <td>...</td>\n",
       "      <td>...</td>\n",
       "      <td>...</td>\n",
       "      <td>...</td>\n",
       "      <td>...</td>\n",
       "      <td>...</td>\n",
       "      <td>...</td>\n",
       "      <td>...</td>\n",
       "      <td>...</td>\n",
       "      <td>...</td>\n",
       "      <td>...</td>\n",
       "      <td>...</td>\n",
       "      <td>...</td>\n",
       "    </tr>\n",
       "    <tr>\n",
       "      <th>FBtr0114187</th>\n",
       "      <td>CR40502</td>\n",
       "      <td>0.000000</td>\n",
       "      <td>0.000000</td>\n",
       "      <td>0.000000</td>\n",
       "      <td>0.000000</td>\n",
       "      <td>0.000000</td>\n",
       "      <td>0.000000</td>\n",
       "      <td>0.000000</td>\n",
       "      <td>0.000000</td>\n",
       "      <td>0.000000</td>\n",
       "      <td>0.000000</td>\n",
       "      <td>0.000000</td>\n",
       "      <td>0.000000</td>\n",
       "      <td>0.000000</td>\n",
       "      <td>0.000000</td>\n",
       "      <td>0.000000</td>\n",
       "      <td>0.00000</td>\n",
       "    </tr>\n",
       "    <tr>\n",
       "      <th>FBtr0304147</th>\n",
       "      <td>CR40719</td>\n",
       "      <td>0.000000</td>\n",
       "      <td>0.000000</td>\n",
       "      <td>0.000000</td>\n",
       "      <td>0.000000</td>\n",
       "      <td>0.000000</td>\n",
       "      <td>0.000000</td>\n",
       "      <td>0.000000</td>\n",
       "      <td>0.000000</td>\n",
       "      <td>0.000000</td>\n",
       "      <td>0.000000</td>\n",
       "      <td>0.000000</td>\n",
       "      <td>0.000000</td>\n",
       "      <td>0.000000</td>\n",
       "      <td>0.000000</td>\n",
       "      <td>0.000000</td>\n",
       "      <td>0.00000</td>\n",
       "    </tr>\n",
       "    <tr>\n",
       "      <th>FBtr0114216</th>\n",
       "      <td>CR40679</td>\n",
       "      <td>2.011199</td>\n",
       "      <td>0.000000</td>\n",
       "      <td>7.994137</td>\n",
       "      <td>2.064200</td>\n",
       "      <td>3.141665</td>\n",
       "      <td>0.000000</td>\n",
       "      <td>1.519102</td>\n",
       "      <td>9.190801</td>\n",
       "      <td>13.475658</td>\n",
       "      <td>1.771435</td>\n",
       "      <td>4.649351</td>\n",
       "      <td>7.004174</td>\n",
       "      <td>6.904506</td>\n",
       "      <td>0.835856</td>\n",
       "      <td>1.151747</td>\n",
       "      <td>1.98591</td>\n",
       "    </tr>\n",
       "    <tr>\n",
       "      <th>FBtr0114222</th>\n",
       "      <td>CR40743</td>\n",
       "      <td>0.000000</td>\n",
       "      <td>0.000000</td>\n",
       "      <td>0.000000</td>\n",
       "      <td>0.000000</td>\n",
       "      <td>0.000000</td>\n",
       "      <td>0.000000</td>\n",
       "      <td>0.000000</td>\n",
       "      <td>0.000000</td>\n",
       "      <td>0.000000</td>\n",
       "      <td>0.000000</td>\n",
       "      <td>0.000000</td>\n",
       "      <td>0.000000</td>\n",
       "      <td>0.000000</td>\n",
       "      <td>0.000000</td>\n",
       "      <td>0.000000</td>\n",
       "      <td>0.00000</td>\n",
       "    </tr>\n",
       "    <tr>\n",
       "      <th>FBtr0114283</th>\n",
       "      <td>CR41619</td>\n",
       "      <td>0.000000</td>\n",
       "      <td>0.000000</td>\n",
       "      <td>0.000000</td>\n",
       "      <td>0.000000</td>\n",
       "      <td>0.000000</td>\n",
       "      <td>0.000000</td>\n",
       "      <td>0.000000</td>\n",
       "      <td>0.000000</td>\n",
       "      <td>0.000000</td>\n",
       "      <td>0.000000</td>\n",
       "      <td>0.000000</td>\n",
       "      <td>0.000000</td>\n",
       "      <td>0.000000</td>\n",
       "      <td>0.000000</td>\n",
       "      <td>0.000000</td>\n",
       "      <td>0.00000</td>\n",
       "    </tr>\n",
       "  </tbody>\n",
       "</table>\n",
       "<p>34718 rows × 17 columns</p>\n",
       "</div>"
      ],
      "text/plain": [
       "            gene_name    male_10    male_11    male_12    male_13   male_14A  \\\n",
       "t_name                                                                         \n",
       "FBtr0114258   CR41571   0.000000   0.000000   0.000000   0.000000   0.000000   \n",
       "FBtr0346770   CG45784   0.000000   0.000000   0.000000   0.000000   0.000000   \n",
       "FBtr0302440   CR12798   0.000000   0.000000   0.000000   0.000000   0.000000   \n",
       "FBtr0302347   CR40182  23.712564  11.967821  20.767498  13.566818  18.802116   \n",
       "FBtr0346769   CG45783   0.000000   0.000000   0.000000   0.000000   0.000000   \n",
       "...               ...        ...        ...        ...        ...        ...   \n",
       "FBtr0114187   CR40502   0.000000   0.000000   0.000000   0.000000   0.000000   \n",
       "FBtr0304147   CR40719   0.000000   0.000000   0.000000   0.000000   0.000000   \n",
       "FBtr0114216   CR40679   2.011199   0.000000   7.994137   2.064200   3.141665   \n",
       "FBtr0114222   CR40743   0.000000   0.000000   0.000000   0.000000   0.000000   \n",
       "FBtr0114283   CR41619   0.000000   0.000000   0.000000   0.000000   0.000000   \n",
       "\n",
       "              male_14B   male_14C   male_14D  female_10  female_11  female_12  \\\n",
       "t_name                                                                          \n",
       "FBtr0114258   0.000000   0.000000   0.000000   0.000000   0.000000   0.000000   \n",
       "FBtr0346770   0.000000   0.000000   0.000000   0.000000   0.000000   0.000000   \n",
       "FBtr0302440   0.000000   0.000000   0.000000   0.000000   0.000000   0.000000   \n",
       "FBtr0302347  26.802691  22.819895  11.682728  21.894249  13.922059  16.482141   \n",
       "FBtr0346769   0.000000   0.000000   0.000000   0.000000   0.000000   0.000000   \n",
       "...                ...        ...        ...        ...        ...        ...   \n",
       "FBtr0114187   0.000000   0.000000   0.000000   0.000000   0.000000   0.000000   \n",
       "FBtr0304147   0.000000   0.000000   0.000000   0.000000   0.000000   0.000000   \n",
       "FBtr0114216   0.000000   1.519102   9.190801  13.475658   1.771435   4.649351   \n",
       "FBtr0114222   0.000000   0.000000   0.000000   0.000000   0.000000   0.000000   \n",
       "FBtr0114283   0.000000   0.000000   0.000000   0.000000   0.000000   0.000000   \n",
       "\n",
       "             female_13  female_14A  female_14B  female_14C  female_14D  \n",
       "t_name                                                                  \n",
       "FBtr0114258   0.000000    0.000000    0.000000    0.000000     0.00000  \n",
       "FBtr0346770   0.000000    0.000000    0.000000    0.000000     0.00000  \n",
       "FBtr0302440   0.000000    0.000000    0.000000    0.000000     0.00000  \n",
       "FBtr0302347  12.622680   31.800016   22.883186   14.330216    17.20257  \n",
       "FBtr0346769   0.000000    0.000000    0.000000    0.000000     0.00000  \n",
       "...                ...         ...         ...         ...         ...  \n",
       "FBtr0114187   0.000000    0.000000    0.000000    0.000000     0.00000  \n",
       "FBtr0304147   0.000000    0.000000    0.000000    0.000000     0.00000  \n",
       "FBtr0114216   7.004174    6.904506    0.835856    1.151747     1.98591  \n",
       "FBtr0114222   0.000000    0.000000    0.000000    0.000000     0.00000  \n",
       "FBtr0114283   0.000000    0.000000    0.000000    0.000000     0.00000  \n",
       "\n",
       "[34718 rows x 17 columns]"
      ]
     },
     "execution_count": 2,
     "metadata": {},
     "output_type": "execute_result"
    }
   ],
   "source": [
    "df_fpkms = pd.read_csv( \"../../qbb2020/data/fpkms.csv\", index_col=\"t_name\" )\n",
    "df_fpkms"
   ]
  },
  {
   "cell_type": "code",
   "execution_count": 3,
   "metadata": {},
   "outputs": [
    {
     "data": {
      "text/plain": [
       "pandas.core.frame.DataFrame"
      ]
     },
     "execution_count": 3,
     "metadata": {},
     "output_type": "execute_result"
    }
   ],
   "source": [
    "type( df_fpkms )"
   ]
  },
  {
   "cell_type": "code",
   "execution_count": 4,
   "metadata": {},
   "outputs": [
    {
     "data": {
      "text/plain": [
       "(34718, 17)"
      ]
     },
     "execution_count": 4,
     "metadata": {},
     "output_type": "execute_result"
    }
   ],
   "source": [
    "df_fpkms.shape"
   ]
  },
  {
   "cell_type": "markdown",
   "metadata": {},
   "source": [
    "# Subset transcript"
   ]
  },
  {
   "cell_type": "code",
   "execution_count": 5,
   "metadata": {},
   "outputs": [],
   "source": [
    "goi = \"FBtr0331261\""
   ]
  },
  {
   "cell_type": "code",
   "execution_count": 6,
   "metadata": {},
   "outputs": [
    {
     "data": {
      "text/plain": [
       "gene_name         Sxl\n",
       "male_10             0\n",
       "male_11             0\n",
       "male_12             0\n",
       "male_13             0\n",
       "male_14A            0\n",
       "male_14B            0\n",
       "male_14C            0\n",
       "male_14D      2.11732\n",
       "female_10           0\n",
       "female_11           0\n",
       "female_12           0\n",
       "female_13           0\n",
       "female_14A    46.0339\n",
       "female_14B    30.6056\n",
       "female_14C    38.9564\n",
       "female_14D    124.908\n",
       "Name: FBtr0331261, dtype: object"
      ]
     },
     "execution_count": 6,
     "metadata": {},
     "output_type": "execute_result"
    }
   ],
   "source": [
    "df_sxl = df_fpkms.loc[goi,:]\n",
    "df_sxl"
   ]
  },
  {
   "cell_type": "code",
   "execution_count": 7,
   "metadata": {},
   "outputs": [
    {
     "data": {
      "text/plain": [
       "pandas.core.series.Series"
      ]
     },
     "execution_count": 7,
     "metadata": {},
     "output_type": "execute_result"
    }
   ],
   "source": [
    "type( df_sxl )"
   ]
  },
  {
   "cell_type": "code",
   "execution_count": 8,
   "metadata": {},
   "outputs": [
    {
     "data": {
      "text/plain": [
       "(17,)"
      ]
     },
     "execution_count": 8,
     "metadata": {},
     "output_type": "execute_result"
    }
   ],
   "source": [
    "df_sxl.shape"
   ]
  },
  {
   "cell_type": "markdown",
   "metadata": {},
   "source": [
    "# Plot time course"
   ]
  },
  {
   "cell_type": "code",
   "execution_count": 9,
   "metadata": {},
   "outputs": [
    {
     "data": {
      "text/plain": [
       "male_10             0\n",
       "male_11             0\n",
       "male_12             0\n",
       "male_13             0\n",
       "male_14A            0\n",
       "male_14B            0\n",
       "male_14C            0\n",
       "male_14D      2.11732\n",
       "female_10           0\n",
       "female_11           0\n",
       "female_12           0\n",
       "female_13           0\n",
       "female_14A    46.0339\n",
       "female_14B    30.6056\n",
       "female_14C    38.9564\n",
       "female_14D    124.908\n",
       "Name: FBtr0331261, dtype: object"
      ]
     },
     "execution_count": 9,
     "metadata": {},
     "output_type": "execute_result"
    }
   ],
   "source": [
    "x = df_sxl[1:]\n",
    "x"
   ]
  },
  {
   "cell_type": "code",
   "execution_count": 10,
   "metadata": {},
   "outputs": [
    {
     "data": {
      "image/png": "[encoded data removed]",
      "text/plain": [
       "<Figure size 432x288 with 1 Axes>"
      ]
     },
     "metadata": {
      "needs_background": "light"
     },
     "output_type": "display_data"
    }
   ],
   "source": [
    "fig, ax = plt.subplots()\n",
    "ax.plot( x.index, x )\n",
    "plt.show()"
   ]
  },
  {
   "cell_type": "markdown",
   "metadata": {},
   "source": [
    "# Question 1: Plot sex as series"
   ]
  },
  {
   "cell_type": "code",
   "execution_count": 35,
   "metadata": {},
   "outputs": [],
   "source": [
    "#obtain the sexes\n",
    "df_fpkms = pd.read_csv( \"../../qbb2020/data/fpkms.csv\", index_col=\"t_name\" )\n",
    "FBtr0331261_df = df_fpkms.loc[\"FBtr0331261\",:]\n",
    "male = FBtr0331261_df[1:9]\n",
    "female = FBtr0331261_df[10:]"
   ]
  },
  {
   "cell_type": "code",
   "execution_count": 39,
   "metadata": {},
   "outputs": [
    {
     "data": {
      "image/png": "[encoded data removed]",
      "text/plain": [
       "<Figure size 432x288 with 2 Axes>"
      ]
     },
     "metadata": {
      "needs_background": "light"
     },
     "output_type": "display_data"
    }
   ],
   "source": [
    "#plot the sexes\n",
    "fig, ax = plt.subplots(2)\n",
    "ax[0].plot(male.index, male )\n",
    "ax[0].title.set_text(\"male time\")\n",
    "ax[0].set_xlabel(\"specimen\")\n",
    "ax[0].set_ylabel(\"time (s)\")\n",
    "ax[1].plot(female.index, female)\n",
    "ax[1].title.set_text(\"female time\")\n",
    "ax[1].set_xlabel(\"specimen\")\n",
    "ax[1].set_ylabel(\"time (s)\")\n",
    "fig.tight_layout(pad=0.2)\n",
    "plt.show()"
   ]
  },
  {
   "cell_type": "markdown",
   "metadata": {},
   "source": [
    "# Advanced: Add replicates"
   ]
  },
  {
   "cell_type": "markdown",
   "metadata": {},
   "source": [
    "# Scatterplot"
   ]
  },
  {
   "cell_type": "code",
   "execution_count": 11,
   "metadata": {},
   "outputs": [],
   "source": [
    "x = np.log2( df_fpkms.loc[:,\"male_14D\"] + 1 )\n",
    "y = np.log2( df_fpkms.loc[:,\"female_14D\"] + 1 )"
   ]
  },
  {
   "cell_type": "code",
   "execution_count": 12,
   "metadata": {},
   "outputs": [
    {
     "data": {
      "image/png": "[encoded data removed]",
      "text/plain": [
       "<Figure size 432x288 with 1 Axes>"
      ]
     },
     "metadata": {
      "needs_background": "light"
     },
     "output_type": "display_data"
    }
   ],
   "source": [
    "fig, ax = plt.subplots()\n",
    "ax.plot( x, y, '.', color=\"black\" )\n",
    "ax.plot( x.loc[goi], y.loc[goi], '.', color=\"red\" )\n",
    "plt.show()"
   ]
  },
  {
   "cell_type": "markdown",
   "metadata": {},
   "source": [
    "# Advanced: Create MA plot"
   ]
  },
  {
   "cell_type": "markdown",
   "metadata": {},
   "source": [
    "# Summary"
   ]
  },
  {
   "cell_type": "markdown",
   "metadata": {},
   "source": [
    "1. More plots\n",
    "    - Time course\n",
    "    - Scatterplot\n",
    "    - MA plot"
   ]
  },
  {
   "cell_type": "code",
   "execution_count": null,
   "metadata": {},
   "outputs": [],
   "source": []
  },
  {
   "cell_type": "code",
   "execution_count": null,
   "metadata": {},
   "outputs": [],
   "source": []
  },
  {
   "cell_type": "code",
   "execution_count": null,
   "metadata": {},
   "outputs": [],
   "source": []
  }
 ],
 "metadata": {
  "kernelspec": {
   "display_name": "Python 3",
   "language": "python",
   "name": "python3"
  },
  "language_info": {
   "codemirror_mode": {
    "name": "ipython",
    "version": 3
   },
   "file_extension": ".py",
   "mimetype": "text/x-python",
   "name": "python",
   "nbconvert_exporter": "python",
   "pygments_lexer": "ipython3",
   "version": "3.6.10"
  },
  "toc": {
   "base_numbering": 1,
   "nav_menu": {},
   "number_sections": false,
   "sideBar": true,
   "skip_h1_title": false,
   "title_cell": "Table of Contents",
   "title_sidebar": "Contents",
   "toc_cell": false,
   "toc_position": {},
   "toc_section_display": true,
   "toc_window_display": true
  }
 },
 "nbformat": 4,
 "nbformat_minor": 4
}
