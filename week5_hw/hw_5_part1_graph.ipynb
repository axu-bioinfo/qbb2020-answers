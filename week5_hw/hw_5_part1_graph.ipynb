{
 "cells": [
  {
   "cell_type": "code",
   "execution_count": 17,
   "metadata": {},
   "outputs": [],
   "source": [
    "import os, sys\n",
    "import pandas as pd\n",
    "import numpy as np\n",
    "import matplotlib.pyplot as plt"
   ]
  },
  {
   "cell_type": "code",
   "execution_count": 3,
   "metadata": {},
   "outputs": [
    {
     "data": {
      "text/html": [
       "<div>\n",
       "<style scoped>\n",
       "    .dataframe tbody tr th:only-of-type {\n",
       "        vertical-align: middle;\n",
       "    }\n",
       "\n",
       "    .dataframe tbody tr th {\n",
       "        vertical-align: top;\n",
       "    }\n",
       "\n",
       "    .dataframe thead th {\n",
       "        text-align: right;\n",
       "    }\n",
       "</style>\n",
       "<table border=\"1\" class=\"dataframe\">\n",
       "  <thead>\n",
       "    <tr style=\"text-align: right;\">\n",
       "      <th></th>\n",
       "      <th>0</th>\n",
       "      <th>1</th>\n",
       "      <th>2</th>\n",
       "      <th>3</th>\n",
       "      <th>4</th>\n",
       "      <th>5</th>\n",
       "    </tr>\n",
       "  </thead>\n",
       "  <tbody>\n",
       "    <tr>\n",
       "      <th>0</th>\n",
       "      <td>chr19</td>\n",
       "      <td>3291946</td>\n",
       "      <td>3292436</td>\n",
       "      <td>intron</td>\n",
       "      <td>.</td>\n",
       "      <td>+</td>\n",
       "    </tr>\n",
       "    <tr>\n",
       "      <th>1</th>\n",
       "      <td>chr19</td>\n",
       "      <td>3292436</td>\n",
       "      <td>3292468</td>\n",
       "      <td>exon</td>\n",
       "      <td>.</td>\n",
       "      <td>+</td>\n",
       "    </tr>\n",
       "    <tr>\n",
       "      <th>2</th>\n",
       "      <td>chr19</td>\n",
       "      <td>3347814</td>\n",
       "      <td>3348175</td>\n",
       "      <td>intron</td>\n",
       "      <td>.</td>\n",
       "      <td>+</td>\n",
       "    </tr>\n",
       "    <tr>\n",
       "      <th>3</th>\n",
       "      <td>chr19</td>\n",
       "      <td>3355184</td>\n",
       "      <td>3355479</td>\n",
       "      <td>intron</td>\n",
       "      <td>.</td>\n",
       "      <td>+</td>\n",
       "    </tr>\n",
       "    <tr>\n",
       "      <th>4</th>\n",
       "      <td>chr19</td>\n",
       "      <td>3651300</td>\n",
       "      <td>3651599</td>\n",
       "      <td>intron</td>\n",
       "      <td>.</td>\n",
       "      <td>-</td>\n",
       "    </tr>\n",
       "    <tr>\n",
       "      <th>...</th>\n",
       "      <td>...</td>\n",
       "      <td>...</td>\n",
       "      <td>...</td>\n",
       "      <td>...</td>\n",
       "      <td>...</td>\n",
       "      <td>...</td>\n",
       "    </tr>\n",
       "    <tr>\n",
       "      <th>560</th>\n",
       "      <td>chr19</td>\n",
       "      <td>60892124</td>\n",
       "      <td>60892624</td>\n",
       "      <td>intron</td>\n",
       "      <td>.</td>\n",
       "      <td>+</td>\n",
       "    </tr>\n",
       "    <tr>\n",
       "      <th>561</th>\n",
       "      <td>chr19</td>\n",
       "      <td>61084417</td>\n",
       "      <td>61085032</td>\n",
       "      <td>intron</td>\n",
       "      <td>.</td>\n",
       "      <td>+</td>\n",
       "    </tr>\n",
       "    <tr>\n",
       "      <th>562</th>\n",
       "      <td>chr19</td>\n",
       "      <td>61084417</td>\n",
       "      <td>61085032</td>\n",
       "      <td>intron</td>\n",
       "      <td>.</td>\n",
       "      <td>-</td>\n",
       "    </tr>\n",
       "    <tr>\n",
       "      <th>563</th>\n",
       "      <td>chr19</td>\n",
       "      <td>61097780</td>\n",
       "      <td>61098206</td>\n",
       "      <td>intron</td>\n",
       "      <td>.</td>\n",
       "      <td>-</td>\n",
       "    </tr>\n",
       "    <tr>\n",
       "      <th>564</th>\n",
       "      <td>chr19</td>\n",
       "      <td>61110117</td>\n",
       "      <td>61110516</td>\n",
       "      <td>intron</td>\n",
       "      <td>.</td>\n",
       "      <td>-</td>\n",
       "    </tr>\n",
       "  </tbody>\n",
       "</table>\n",
       "<p>565 rows × 6 columns</p>\n",
       "</div>"
      ],
      "text/plain": [
       "         0         1         2       3  4  5\n",
       "0    chr19   3291946   3292436  intron  .  +\n",
       "1    chr19   3292436   3292468    exon  .  +\n",
       "2    chr19   3347814   3348175  intron  .  +\n",
       "3    chr19   3355184   3355479  intron  .  +\n",
       "4    chr19   3651300   3651599  intron  .  -\n",
       "..     ...       ...       ...     ... .. ..\n",
       "560  chr19  60892124  60892624  intron  .  +\n",
       "561  chr19  61084417  61085032  intron  .  +\n",
       "562  chr19  61084417  61085032  intron  .  -\n",
       "563  chr19  61097780  61098206  intron  .  -\n",
       "564  chr19  61110117  61110516  intron  .  -\n",
       "\n",
       "[565 rows x 6 columns]"
      ]
     },
     "execution_count": 3,
     "metadata": {},
     "output_type": "execute_result"
    }
   ],
   "source": [
    "ER4_overlap = pd.read_csv(\"ER4_peak_overlap.bed\", sep = \"\\t\", header = None)\n",
    "ER4_overlap"
   ]
  },
  {
   "cell_type": "code",
   "execution_count": 4,
   "metadata": {},
   "outputs": [
    {
     "data": {
      "text/html": [
       "<div>\n",
       "<style scoped>\n",
       "    .dataframe tbody tr th:only-of-type {\n",
       "        vertical-align: middle;\n",
       "    }\n",
       "\n",
       "    .dataframe tbody tr th {\n",
       "        vertical-align: top;\n",
       "    }\n",
       "\n",
       "    .dataframe thead th {\n",
       "        text-align: right;\n",
       "    }\n",
       "</style>\n",
       "<table border=\"1\" class=\"dataframe\">\n",
       "  <thead>\n",
       "    <tr style=\"text-align: right;\">\n",
       "      <th></th>\n",
       "      <th>0</th>\n",
       "      <th>1</th>\n",
       "      <th>2</th>\n",
       "      <th>3</th>\n",
       "      <th>4</th>\n",
       "      <th>5</th>\n",
       "    </tr>\n",
       "  </thead>\n",
       "  <tbody>\n",
       "    <tr>\n",
       "      <th>0</th>\n",
       "      <td>chr19</td>\n",
       "      <td>3099982</td>\n",
       "      <td>3100278</td>\n",
       "      <td>intron</td>\n",
       "      <td>.</td>\n",
       "      <td>-</td>\n",
       "    </tr>\n",
       "    <tr>\n",
       "      <th>1</th>\n",
       "      <td>chr19</td>\n",
       "      <td>3291881</td>\n",
       "      <td>3292436</td>\n",
       "      <td>intron</td>\n",
       "      <td>.</td>\n",
       "      <td>+</td>\n",
       "    </tr>\n",
       "    <tr>\n",
       "      <th>2</th>\n",
       "      <td>chr19</td>\n",
       "      <td>3292436</td>\n",
       "      <td>3292446</td>\n",
       "      <td>exon</td>\n",
       "      <td>.</td>\n",
       "      <td>+</td>\n",
       "    </tr>\n",
       "    <tr>\n",
       "      <th>3</th>\n",
       "      <td>chr19</td>\n",
       "      <td>3623646</td>\n",
       "      <td>3624184</td>\n",
       "      <td>intron</td>\n",
       "      <td>.</td>\n",
       "      <td>-</td>\n",
       "    </tr>\n",
       "    <tr>\n",
       "      <th>4</th>\n",
       "      <td>chr19</td>\n",
       "      <td>3586511</td>\n",
       "      <td>3587013</td>\n",
       "      <td>intron</td>\n",
       "      <td>.</td>\n",
       "      <td>-</td>\n",
       "    </tr>\n",
       "    <tr>\n",
       "      <th>...</th>\n",
       "      <td>...</td>\n",
       "      <td>...</td>\n",
       "      <td>...</td>\n",
       "      <td>...</td>\n",
       "      <td>...</td>\n",
       "      <td>...</td>\n",
       "    </tr>\n",
       "    <tr>\n",
       "      <th>464</th>\n",
       "      <td>chr19</td>\n",
       "      <td>60889749</td>\n",
       "      <td>60889935</td>\n",
       "      <td>exon</td>\n",
       "      <td>.</td>\n",
       "      <td>+</td>\n",
       "    </tr>\n",
       "    <tr>\n",
       "      <th>465</th>\n",
       "      <td>chr19</td>\n",
       "      <td>60892134</td>\n",
       "      <td>60892563</td>\n",
       "      <td>intron</td>\n",
       "      <td>.</td>\n",
       "      <td>+</td>\n",
       "    </tr>\n",
       "    <tr>\n",
       "      <th>466</th>\n",
       "      <td>chr19</td>\n",
       "      <td>61084429</td>\n",
       "      <td>61084967</td>\n",
       "      <td>intron</td>\n",
       "      <td>.</td>\n",
       "      <td>+</td>\n",
       "    </tr>\n",
       "    <tr>\n",
       "      <th>467</th>\n",
       "      <td>chr19</td>\n",
       "      <td>61084429</td>\n",
       "      <td>61084967</td>\n",
       "      <td>intron</td>\n",
       "      <td>.</td>\n",
       "      <td>-</td>\n",
       "    </tr>\n",
       "    <tr>\n",
       "      <th>468</th>\n",
       "      <td>chr19</td>\n",
       "      <td>61110139</td>\n",
       "      <td>61110481</td>\n",
       "      <td>intron</td>\n",
       "      <td>.</td>\n",
       "      <td>-</td>\n",
       "    </tr>\n",
       "  </tbody>\n",
       "</table>\n",
       "<p>469 rows × 6 columns</p>\n",
       "</div>"
      ],
      "text/plain": [
       "         0         1         2       3  4  5\n",
       "0    chr19   3099982   3100278  intron  .  -\n",
       "1    chr19   3291881   3292436  intron  .  +\n",
       "2    chr19   3292436   3292446    exon  .  +\n",
       "3    chr19   3623646   3624184  intron  .  -\n",
       "4    chr19   3586511   3587013  intron  .  -\n",
       "..     ...       ...       ...     ... .. ..\n",
       "464  chr19  60889749  60889935    exon  .  +\n",
       "465  chr19  60892134  60892563  intron  .  +\n",
       "466  chr19  61084429  61084967  intron  .  +\n",
       "467  chr19  61084429  61084967  intron  .  -\n",
       "468  chr19  61110139  61110481  intron  .  -\n",
       "\n",
       "[469 rows x 6 columns]"
      ]
     },
     "execution_count": 4,
     "metadata": {},
     "output_type": "execute_result"
    }
   ],
   "source": [
    "G1E_overlap = pd.read_csv(\"G1E_peak_overlap.bed\", sep = \"\\t\", header = None)\n",
    "G1E_overlap"
   ]
  },
  {
   "cell_type": "code",
   "execution_count": 8,
   "metadata": {},
   "outputs": [
    {
     "name": "stdout",
     "output_type": "stream",
     "text": [
      "ER4 counts for intron = 349 exon = 144 promoter = 72\n"
     ]
    }
   ],
   "source": [
    "ER4_func_region = ER4_overlap[3]\n",
    "ER4_intron = (ER4_func_region.values == \"intron\").sum()\n",
    "ER4_exon = (ER4_func_region.values == \"exon\").sum()\n",
    "ER4_promoter = (ER4_func_region.values == \"promoter\").sum()\n",
    "print(\"ER4 counts for intron = \" + str(ER4_intron) + \" exon = \" + str(ER4_exon) + \" promoter = \" + str(ER4_promoter))"
   ]
  },
  {
   "cell_type": "code",
   "execution_count": 10,
   "metadata": {
    "scrolled": true
   },
   "outputs": [
    {
     "name": "stdout",
     "output_type": "stream",
     "text": [
      "G1E counts for intron = 301 exon = 117 promoter = 51\n"
     ]
    }
   ],
   "source": [
    "G1E_func_region = G1E_overlap[3]\n",
    "G1E_intron = (G1E_func_region.values == \"intron\").sum()\n",
    "G1E_exon = (G1E_func_region.values == \"exon\").sum()\n",
    "G1E_promoter = (G1E_func_region.values == \"promoter\").sum()\n",
    "print(\"G1E counts for intron = \" + str(G1E_intron) + \" exon = \" + str(G1E_exon) + \" promoter = \" + str(G1E_promoter))"
   ]
  },
  {
   "cell_type": "code",
   "execution_count": 12,
   "metadata": {},
   "outputs": [],
   "source": [
    "gained_df = pd.read_csv(\"gained.bed\", sep = \"\\t\", header = None)\n",
    "lost_df = pd.read_csv(\"lost.bed\", sep = \"\\t\", header = None)"
   ]
  },
  {
   "cell_type": "code",
   "execution_count": 16,
   "metadata": {},
   "outputs": [
    {
     "data": {
      "text/plain": [
       "4"
      ]
     },
     "execution_count": 16,
     "metadata": {},
     "output_type": "execute_result"
    }
   ],
   "source": [
    "ER4_gained = gained_df[3].str.contains(\"ER4\").sum()\n",
    "ER4_lost = lost_df[3].str.contains(\"ER4\").sum()\n",
    "G1E_gained = gained_df[3].str.contains(\"G1E\").sum()\n",
    "G1E_lost = lost_df[3].str.contains(\"G1E\").sum()"
   ]
  },
  {
   "cell_type": "code",
   "execution_count": 44,
   "metadata": {},
   "outputs": [
    {
     "data": {
      "image/png": "[encoded data removed]",
      "text/plain": [
       "<Figure size 432x288 with 2 Axes>"
      ]
     },
     "metadata": {
      "needs_background": "light"
     },
     "output_type": "display_data"
    }
   ],
   "source": [
    "fig, (ax1, ax2) = plt.subplots(nrows = 1, ncols = 2)\n",
    "x1 = [\"ER4_exon\", \"ER4_intron\", \"ER4_promoter\", \"G1E_exon\", \"G1E_intron\", \"G1E_promoter\"]\n",
    "y1 = [ER4_exon, ER4_intron, ER4_promoter, G1E_exon, G1E_intron, G1E_promoter]\n",
    "ax1.bar(x1, y1)\n",
    "ax1.set_xticks(x1)\n",
    "ax1.set_xticklabels(x1, rotation = \"40\")\n",
    "ax1.set_ylabel(\"count\")\n",
    "ax1.set_title(\"Number of CTCF sites\")\n",
    "\n",
    "x2 = [\"ER4_gained\", \"ER4_lost\", \"G1E_gained\", \"G1E_lost\"]\n",
    "y2 = [ER4_gained, ER4_lost, G1E_gained, G1E_lost]\n",
    "ax2.bar(x2, y2)\n",
    "ax2.set_xticks(x2)\n",
    "ax2.set_xticklabels(x2, rotation = \"40\")\n",
    "ax2.set_ylabel(\"count\")\n",
    "ax2.set_title(\"Number of sites lost/gained\")\n",
    "\n",
    "plt.show()"
   ]
  },
  {
   "cell_type": "code",
   "execution_count": null,
   "metadata": {},
   "outputs": [],
   "source": []
  },
  {
   "cell_type": "code",
   "execution_count": null,
   "metadata": {},
   "outputs": [],
   "source": []
  },
  {
   "cell_type": "code",
   "execution_count": null,
   "metadata": {},
   "outputs": [],
   "source": []
  },
  {
   "cell_type": "code",
   "execution_count": null,
   "metadata": {},
   "outputs": [],
   "source": []
  }
 ],
 "metadata": {
  "kernelspec": {
   "display_name": "Python 3",
   "language": "python",
   "name": "python3"
  },
  "language_info": {
   "codemirror_mode": {
    "name": "ipython",
    "version": 3
   },
   "file_extension": ".py",
   "mimetype": "text/x-python",
   "name": "python",
   "nbconvert_exporter": "python",
   "pygments_lexer": "ipython3",
   "version": "3.6.10"
  }
 },
 "nbformat": 4,
 "nbformat_minor": 4
}
